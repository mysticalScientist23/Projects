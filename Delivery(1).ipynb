{
 "cells": [
  {
   "cell_type": "markdown",
   "metadata": {},
   "source": [
    "Deliveries times is by far one of the most important metrics for a business to evaluate. While it's not the favorite measure, it's a number that can give your company the hard truth about how efficient they have been. This analytic covers the importance of dasher at restauraunt, and order delivered to consumer in Teleco service and reasons customers leave the service. Going forward this project, we help the analytic personals and managers create a more affective service and retain customers.\n",
    "\n",
    "Our hypothesis is we gain most of our revenue in the Palto Alto region. This data was collected from DoorDash Technical Recruiter. Deliveries. The data contains 13 variables and 18078 observers. We do have missing values to fill and drop columns that are not needed.\n",
    "\n",
    "This dataset contains information about:\n",
    "\n",
    "Customer placed order datetime: Time that customer placed the order; the format is ::\n",
    "\n",
    "Placed order with restaurant datetime: Time that restaurant received order; the format is ::\n",
    "\n",
    "Driver at restaurant datetime: Time that driver arrives at restaurant; the format is ::\n",
    "\n",
    "Delivered to consumer datetime: Time that driver delivered to customer; the format is ::\n",
    "\n",
    "Driver ID: Unique identifier of driver\n",
    "\n",
    "Restaurant ID: Unique identifier of restaurant\n",
    "\n",
    "Consumer ID: Unique identifier of customer\n",
    "\n",
    "Delivery Region: City where restaurant is located\n",
    "\n",
    "Is ASAP: Equals TRUE for on-demand orders; FALSE for scheduled deliveries (e.g., a customer places an order at 10am for 12noon)\n",
    "\n",
    "Order total: Amount customer spent (including delivery fee); units are in dollars\n",
    "\n",
    "Amount discount: Amount of discounts redeemed (e.g., for referrals); units are in dollars\n",
    "\n",
    "Amount of tip: Amount of tip given; units are in dollars\n",
    "\n",
    "Refunded amount: Amount refunded to customer; units are in dollars\n",
    "\n",
    "Times: Time is in UTC and we operate on PT"
   ]
  },
  {
   "cell_type": "code",
   "execution_count": 1,
   "metadata": {},
   "outputs": [],
   "source": [
    "import pandas as pd\n",
    "import pandas as pd\n",
    "%matplotlib inline\n",
    "import matplotlib.pyplot as plt\n",
    "import seaborn as sns; sns.set()\n",
    "import numpy as np\n",
    "import warnings\n",
    "warnings.filterwarnings('ignore')\n",
    "from scipy import stats\n",
    "from datetime import datetime\n",
    "from pytz import all_timezones"
   ]
  },
  {
   "cell_type": "code",
   "execution_count": 2,
   "metadata": {},
   "outputs": [],
   "source": [
    "d_parser = lambda x: pd.datetime.strptime(x,\"%d %H:%M:%S\")\n",
    "df = pd.read_excel(\"deliveries.xlsx\", parse_dates=[\"Customer placed order datetime\",\"Placed order with restaurant datetime\",\n",
    "                                                  \"Driver at restaurant datetime\",\"Delivered to consumer datetime\"], date_parser=d_parser)"
   ]
  },
  {
   "cell_type": "code",
   "execution_count": 3,
   "metadata": {},
   "outputs": [],
   "source": [
    "# replace whitespace with underscore to aviod error and changing column names to lowercase for speed\n",
    "df.columns = df.columns.str.replace(' ', '_')\n",
    "df.columns = map(str.lower, df.columns)"
   ]
  },
  {
   "cell_type": "code",
   "execution_count": 4,
   "metadata": {},
   "outputs": [
    {
     "data": {
      "text/html": [
       "<div>\n",
       "<style scoped>\n",
       "    .dataframe tbody tr th:only-of-type {\n",
       "        vertical-align: middle;\n",
       "    }\n",
       "\n",
       "    .dataframe tbody tr th {\n",
       "        vertical-align: top;\n",
       "    }\n",
       "\n",
       "    .dataframe thead th {\n",
       "        text-align: right;\n",
       "    }\n",
       "</style>\n",
       "<table border=\"1\" class=\"dataframe\">\n",
       "  <thead>\n",
       "    <tr style=\"text-align: right;\">\n",
       "      <th></th>\n",
       "      <th>customer_placed_order_datetime</th>\n",
       "      <th>placed_order_with_restaurant_datetime</th>\n",
       "      <th>driver_at_restaurant_datetime</th>\n",
       "      <th>delivered_to_consumer_datetime</th>\n",
       "      <th>driver_id</th>\n",
       "      <th>restaurant_id</th>\n",
       "      <th>consumer_id</th>\n",
       "      <th>delivery_region</th>\n",
       "      <th>is_asap</th>\n",
       "      <th>order_total</th>\n",
       "      <th>amount_of_discount</th>\n",
       "      <th>amount_of_tip</th>\n",
       "      <th>refunded_amount</th>\n",
       "    </tr>\n",
       "  </thead>\n",
       "  <tbody>\n",
       "    <tr>\n",
       "      <th>0</th>\n",
       "      <td>1900-01-01 02:52:12</td>\n",
       "      <td>1900-01-01 03:00:25</td>\n",
       "      <td>1900-01-01 03:08:09</td>\n",
       "      <td>1900-01-01 03:35:20</td>\n",
       "      <td>279</td>\n",
       "      <td>50</td>\n",
       "      <td>6738</td>\n",
       "      <td>Mountain View</td>\n",
       "      <td>True</td>\n",
       "      <td>16.33</td>\n",
       "      <td>0.0</td>\n",
       "      <td>0.82</td>\n",
       "      <td>0.0</td>\n",
       "    </tr>\n",
       "    <tr>\n",
       "      <th>1</th>\n",
       "      <td>1900-01-13 15:58:57</td>\n",
       "      <td>1900-01-13 17:56:45</td>\n",
       "      <td>1900-01-13 18:24:39</td>\n",
       "      <td>1900-01-13 18:57:01</td>\n",
       "      <td>303</td>\n",
       "      <td>96</td>\n",
       "      <td>64746</td>\n",
       "      <td>Palo Alto</td>\n",
       "      <td>True</td>\n",
       "      <td>76.14</td>\n",
       "      <td>0.0</td>\n",
       "      <td>6.45</td>\n",
       "      <td>0.0</td>\n",
       "    </tr>\n",
       "    <tr>\n",
       "      <th>2</th>\n",
       "      <td>1900-01-17 19:02:37</td>\n",
       "      <td>1900-01-17 19:12:51</td>\n",
       "      <td>1900-01-17 19:19:59</td>\n",
       "      <td>1900-01-17 19:31:09</td>\n",
       "      <td>212</td>\n",
       "      <td>190</td>\n",
       "      <td>12484</td>\n",
       "      <td>San Jose</td>\n",
       "      <td>True</td>\n",
       "      <td>16.77</td>\n",
       "      <td>6.0</td>\n",
       "      <td>2.52</td>\n",
       "      <td>0.0</td>\n",
       "    </tr>\n",
       "    <tr>\n",
       "      <th>3</th>\n",
       "      <td>1900-01-12 04:01:57</td>\n",
       "      <td>1900-01-12 04:08:18</td>\n",
       "      <td>1900-01-12 04:13:02</td>\n",
       "      <td>1900-01-12 04:37:57</td>\n",
       "      <td>352</td>\n",
       "      <td>194</td>\n",
       "      <td>13920</td>\n",
       "      <td>San Jose</td>\n",
       "      <td>True</td>\n",
       "      <td>25.03</td>\n",
       "      <td>0.0</td>\n",
       "      <td>5.00</td>\n",
       "      <td>0.0</td>\n",
       "    </tr>\n",
       "    <tr>\n",
       "      <th>4</th>\n",
       "      <td>1900-01-08 23:46:38</td>\n",
       "      <td>1900-01-08 23:49:32</td>\n",
       "      <td>1900-01-08 23:54:29</td>\n",
       "      <td>1900-01-09 00:37:15</td>\n",
       "      <td>313</td>\n",
       "      <td>9</td>\n",
       "      <td>7037</td>\n",
       "      <td>Palo Alto</td>\n",
       "      <td>True</td>\n",
       "      <td>51.57</td>\n",
       "      <td>0.0</td>\n",
       "      <td>5.16</td>\n",
       "      <td>0.0</td>\n",
       "    </tr>\n",
       "    <tr>\n",
       "      <th>5</th>\n",
       "      <td>1900-01-12 03:54:30</td>\n",
       "      <td>1900-01-12 03:57:30</td>\n",
       "      <td>1900-01-12 04:10:26</td>\n",
       "      <td>1900-01-12 04:41:00</td>\n",
       "      <td>314</td>\n",
       "      <td>350</td>\n",
       "      <td>95392</td>\n",
       "      <td>Palo Alto</td>\n",
       "      <td>True</td>\n",
       "      <td>16.17</td>\n",
       "      <td>6.0</td>\n",
       "      <td>0.93</td>\n",
       "      <td>0.0</td>\n",
       "    </tr>\n",
       "    <tr>\n",
       "      <th>6</th>\n",
       "      <td>1900-01-12 04:14:15</td>\n",
       "      <td>1900-01-12 04:14:41</td>\n",
       "      <td>1900-01-12 04:25:32</td>\n",
       "      <td>1900-01-12 04:53:25</td>\n",
       "      <td>154</td>\n",
       "      <td>27</td>\n",
       "      <td>7426</td>\n",
       "      <td>Palo Alto</td>\n",
       "      <td>True</td>\n",
       "      <td>48.79</td>\n",
       "      <td>0.0</td>\n",
       "      <td>5.90</td>\n",
       "      <td>0.0</td>\n",
       "    </tr>\n",
       "    <tr>\n",
       "      <th>7</th>\n",
       "      <td>1900-01-12 04:20:10</td>\n",
       "      <td>1900-01-12 04:20:25</td>\n",
       "      <td>1900-01-12 04:26:51</td>\n",
       "      <td>1900-01-12 05:04:19</td>\n",
       "      <td>315</td>\n",
       "      <td>107</td>\n",
       "      <td>95797</td>\n",
       "      <td>Palo Alto</td>\n",
       "      <td>True</td>\n",
       "      <td>35.74</td>\n",
       "      <td>6.0</td>\n",
       "      <td>1.36</td>\n",
       "      <td>0.0</td>\n",
       "    </tr>\n",
       "    <tr>\n",
       "      <th>8</th>\n",
       "      <td>1900-01-13 22:45:41</td>\n",
       "      <td>1900-01-13 23:22:33</td>\n",
       "      <td>NaT</td>\n",
       "      <td>1900-01-13 23:49:14</td>\n",
       "      <td>196</td>\n",
       "      <td>225</td>\n",
       "      <td>2469</td>\n",
       "      <td>Mountain View</td>\n",
       "      <td>False</td>\n",
       "      <td>35.85</td>\n",
       "      <td>0.0</td>\n",
       "      <td>2.00</td>\n",
       "      <td>0.0</td>\n",
       "    </tr>\n",
       "  </tbody>\n",
       "</table>\n",
       "</div>"
      ],
      "text/plain": [
       "  customer_placed_order_datetime placed_order_with_restaurant_datetime  \\\n",
       "0            1900-01-01 02:52:12                   1900-01-01 03:00:25   \n",
       "1            1900-01-13 15:58:57                   1900-01-13 17:56:45   \n",
       "2            1900-01-17 19:02:37                   1900-01-17 19:12:51   \n",
       "3            1900-01-12 04:01:57                   1900-01-12 04:08:18   \n",
       "4            1900-01-08 23:46:38                   1900-01-08 23:49:32   \n",
       "5            1900-01-12 03:54:30                   1900-01-12 03:57:30   \n",
       "6            1900-01-12 04:14:15                   1900-01-12 04:14:41   \n",
       "7            1900-01-12 04:20:10                   1900-01-12 04:20:25   \n",
       "8            1900-01-13 22:45:41                   1900-01-13 23:22:33   \n",
       "\n",
       "  driver_at_restaurant_datetime delivered_to_consumer_datetime  driver_id  \\\n",
       "0           1900-01-01 03:08:09            1900-01-01 03:35:20        279   \n",
       "1           1900-01-13 18:24:39            1900-01-13 18:57:01        303   \n",
       "2           1900-01-17 19:19:59            1900-01-17 19:31:09        212   \n",
       "3           1900-01-12 04:13:02            1900-01-12 04:37:57        352   \n",
       "4           1900-01-08 23:54:29            1900-01-09 00:37:15        313   \n",
       "5           1900-01-12 04:10:26            1900-01-12 04:41:00        314   \n",
       "6           1900-01-12 04:25:32            1900-01-12 04:53:25        154   \n",
       "7           1900-01-12 04:26:51            1900-01-12 05:04:19        315   \n",
       "8                           NaT            1900-01-13 23:49:14        196   \n",
       "\n",
       "   restaurant_id  consumer_id delivery_region  is_asap  order_total  \\\n",
       "0             50         6738   Mountain View     True        16.33   \n",
       "1             96        64746       Palo Alto     True        76.14   \n",
       "2            190        12484        San Jose     True        16.77   \n",
       "3            194        13920        San Jose     True        25.03   \n",
       "4              9         7037       Palo Alto     True        51.57   \n",
       "5            350        95392       Palo Alto     True        16.17   \n",
       "6             27         7426       Palo Alto     True        48.79   \n",
       "7            107        95797       Palo Alto     True        35.74   \n",
       "8            225         2469   Mountain View    False        35.85   \n",
       "\n",
       "   amount_of_discount  amount_of_tip  refunded_amount  \n",
       "0                 0.0           0.82              0.0  \n",
       "1                 0.0           6.45              0.0  \n",
       "2                 6.0           2.52              0.0  \n",
       "3                 0.0           5.00              0.0  \n",
       "4                 0.0           5.16              0.0  \n",
       "5                 6.0           0.93              0.0  \n",
       "6                 0.0           5.90              0.0  \n",
       "7                 6.0           1.36              0.0  \n",
       "8                 0.0           2.00              0.0  "
      ]
     },
     "execution_count": 4,
     "metadata": {},
     "output_type": "execute_result"
    }
   ],
   "source": [
    "# lets see the first 9 rows of our data\n",
    "df.head(9)"
   ]
  },
  {
   "cell_type": "code",
   "execution_count": 5,
   "metadata": {},
   "outputs": [
    {
     "data": {
      "text/plain": [
       "DatetimeIndex(['1900-01-01 03:00:25-07:53', '1900-01-01 04:00:25-07:53',\n",
       "               '1900-01-01 05:00:25-07:53'],\n",
       "              dtype='datetime64[ns, US/Pacific]', freq='H')"
      ]
     },
     "execution_count": 5,
     "metadata": {},
     "output_type": "execute_result"
    }
   ],
   "source": [
    "#Changing time zone from UTC to PT time zone\n",
    "date_time = pd.date_range(start='1900-01-01 03:00:25', freq='H', periods=3, tz='US/Pacific')\n",
    "date_time"
   ]
  },
  {
   "cell_type": "code",
   "execution_count": 6,
   "metadata": {},
   "outputs": [],
   "source": [
    "# changing the long column names to shorter ones for speed\n",
    "df.rename(columns={\"customer_placed_order_datetime\": \"cust_order_time\", \n",
    "                   \"placed_order_with_restaurant_datetime\": \"order_with_rest_time\",\n",
    "                   \"driver_at_restaurant_datetime\": \"arrive_at_rest_time\",\n",
    "                  \"delivered_to_consumer_datetime\": \"deliver_to_cust_time\"}, inplace=True)"
   ]
  },
  {
   "cell_type": "code",
   "execution_count": 7,
   "metadata": {},
   "outputs": [
    {
     "name": "stdout",
     "output_type": "stream",
     "text": [
      "<class 'pandas.core.frame.DataFrame'>\n",
      "RangeIndex: 18078 entries, 0 to 18077\n",
      "Data columns (total 13 columns):\n",
      " #   Column                Non-Null Count  Dtype         \n",
      "---  ------                --------------  -----         \n",
      " 0   cust_order_time       18078 non-null  datetime64[ns]\n",
      " 1   order_with_rest_time  18038 non-null  datetime64[ns]\n",
      " 2   arrive_at_rest_time   13547 non-null  datetime64[ns]\n",
      " 3   deliver_to_cust_time  18078 non-null  datetime64[ns]\n",
      " 4   driver_id             18078 non-null  int64         \n",
      " 5   restaurant_id         18078 non-null  int64         \n",
      " 6   consumer_id           18078 non-null  int64         \n",
      " 7   delivery_region       18078 non-null  object        \n",
      " 8   is_asap               18078 non-null  bool          \n",
      " 9   order_total           18078 non-null  float64       \n",
      " 10  amount_of_discount    18078 non-null  float64       \n",
      " 11  amount_of_tip         18078 non-null  float64       \n",
      " 12  refunded_amount       18078 non-null  float64       \n",
      "dtypes: bool(1), datetime64[ns](4), float64(4), int64(3), object(1)\n",
      "memory usage: 1.7+ MB\n"
     ]
    },
    {
     "data": {
      "text/plain": [
       "(18078, 13)"
      ]
     },
     "execution_count": 7,
     "metadata": {},
     "output_type": "execute_result"
    }
   ],
   "source": [
    "# looking at the 13 columns and 18077 observations\n",
    "# lets see the data types if they match culumns\n",
    "df.info()\n",
    "df.shape"
   ]
  },
  {
   "cell_type": "code",
   "execution_count": 8,
   "metadata": {},
   "outputs": [
    {
     "data": {
      "text/plain": [
       "'Monday'"
      ]
     },
     "execution_count": 8,
     "metadata": {},
     "output_type": "execute_result"
    }
   ],
   "source": [
    "df.loc[0, \"cust_order_time\"].day_name()"
   ]
  },
  {
   "cell_type": "code",
   "execution_count": 9,
   "metadata": {},
   "outputs": [
    {
     "data": {
      "text/plain": [
       "0           Monday\n",
       "1         Saturday\n",
       "2        Wednesday\n",
       "3           Friday\n",
       "4           Monday\n",
       "           ...    \n",
       "18073      Tuesday\n",
       "18074      Tuesday\n",
       "18075      Tuesday\n",
       "18076      Tuesday\n",
       "18077      Tuesday\n",
       "Name: cust_order_time, Length: 18078, dtype: object"
      ]
     },
     "execution_count": 9,
     "metadata": {},
     "output_type": "execute_result"
    }
   ],
   "source": [
    "df[\"cust_order_time\"].dt.day_name()"
   ]
  },
  {
   "cell_type": "code",
   "execution_count": 10,
   "metadata": {},
   "outputs": [],
   "source": [
    "df[\"day_of_week\"]= df[\"cust_order_time\"].dt.day_name()"
   ]
  },
  {
   "cell_type": "code",
   "execution_count": 11,
   "metadata": {},
   "outputs": [
    {
     "data": {
      "text/html": [
       "<div>\n",
       "<style scoped>\n",
       "    .dataframe tbody tr th:only-of-type {\n",
       "        vertical-align: middle;\n",
       "    }\n",
       "\n",
       "    .dataframe tbody tr th {\n",
       "        vertical-align: top;\n",
       "    }\n",
       "\n",
       "    .dataframe thead th {\n",
       "        text-align: right;\n",
       "    }\n",
       "</style>\n",
       "<table border=\"1\" class=\"dataframe\">\n",
       "  <thead>\n",
       "    <tr style=\"text-align: right;\">\n",
       "      <th></th>\n",
       "      <th>cust_order_time</th>\n",
       "      <th>order_with_rest_time</th>\n",
       "      <th>arrive_at_rest_time</th>\n",
       "      <th>deliver_to_cust_time</th>\n",
       "      <th>driver_id</th>\n",
       "      <th>restaurant_id</th>\n",
       "      <th>consumer_id</th>\n",
       "      <th>delivery_region</th>\n",
       "      <th>is_asap</th>\n",
       "      <th>order_total</th>\n",
       "      <th>amount_of_discount</th>\n",
       "      <th>amount_of_tip</th>\n",
       "      <th>refunded_amount</th>\n",
       "      <th>day_of_week</th>\n",
       "    </tr>\n",
       "  </thead>\n",
       "  <tbody>\n",
       "    <tr>\n",
       "      <th>0</th>\n",
       "      <td>1900-01-01 02:52:12</td>\n",
       "      <td>1900-01-01 03:00:25</td>\n",
       "      <td>1900-01-01 03:08:09</td>\n",
       "      <td>1900-01-01 03:35:20</td>\n",
       "      <td>279</td>\n",
       "      <td>50</td>\n",
       "      <td>6738</td>\n",
       "      <td>Mountain View</td>\n",
       "      <td>True</td>\n",
       "      <td>16.33</td>\n",
       "      <td>0.0</td>\n",
       "      <td>0.82</td>\n",
       "      <td>0.0</td>\n",
       "      <td>Monday</td>\n",
       "    </tr>\n",
       "    <tr>\n",
       "      <th>1</th>\n",
       "      <td>1900-01-13 15:58:57</td>\n",
       "      <td>1900-01-13 17:56:45</td>\n",
       "      <td>1900-01-13 18:24:39</td>\n",
       "      <td>1900-01-13 18:57:01</td>\n",
       "      <td>303</td>\n",
       "      <td>96</td>\n",
       "      <td>64746</td>\n",
       "      <td>Palo Alto</td>\n",
       "      <td>True</td>\n",
       "      <td>76.14</td>\n",
       "      <td>0.0</td>\n",
       "      <td>6.45</td>\n",
       "      <td>0.0</td>\n",
       "      <td>Saturday</td>\n",
       "    </tr>\n",
       "    <tr>\n",
       "      <th>2</th>\n",
       "      <td>1900-01-17 19:02:37</td>\n",
       "      <td>1900-01-17 19:12:51</td>\n",
       "      <td>1900-01-17 19:19:59</td>\n",
       "      <td>1900-01-17 19:31:09</td>\n",
       "      <td>212</td>\n",
       "      <td>190</td>\n",
       "      <td>12484</td>\n",
       "      <td>San Jose</td>\n",
       "      <td>True</td>\n",
       "      <td>16.77</td>\n",
       "      <td>6.0</td>\n",
       "      <td>2.52</td>\n",
       "      <td>0.0</td>\n",
       "      <td>Wednesday</td>\n",
       "    </tr>\n",
       "    <tr>\n",
       "      <th>3</th>\n",
       "      <td>1900-01-12 04:01:57</td>\n",
       "      <td>1900-01-12 04:08:18</td>\n",
       "      <td>1900-01-12 04:13:02</td>\n",
       "      <td>1900-01-12 04:37:57</td>\n",
       "      <td>352</td>\n",
       "      <td>194</td>\n",
       "      <td>13920</td>\n",
       "      <td>San Jose</td>\n",
       "      <td>True</td>\n",
       "      <td>25.03</td>\n",
       "      <td>0.0</td>\n",
       "      <td>5.00</td>\n",
       "      <td>0.0</td>\n",
       "      <td>Friday</td>\n",
       "    </tr>\n",
       "    <tr>\n",
       "      <th>4</th>\n",
       "      <td>1900-01-08 23:46:38</td>\n",
       "      <td>1900-01-08 23:49:32</td>\n",
       "      <td>1900-01-08 23:54:29</td>\n",
       "      <td>1900-01-09 00:37:15</td>\n",
       "      <td>313</td>\n",
       "      <td>9</td>\n",
       "      <td>7037</td>\n",
       "      <td>Palo Alto</td>\n",
       "      <td>True</td>\n",
       "      <td>51.57</td>\n",
       "      <td>0.0</td>\n",
       "      <td>5.16</td>\n",
       "      <td>0.0</td>\n",
       "      <td>Monday</td>\n",
       "    </tr>\n",
       "    <tr>\n",
       "      <th>...</th>\n",
       "      <td>...</td>\n",
       "      <td>...</td>\n",
       "      <td>...</td>\n",
       "      <td>...</td>\n",
       "      <td>...</td>\n",
       "      <td>...</td>\n",
       "      <td>...</td>\n",
       "      <td>...</td>\n",
       "      <td>...</td>\n",
       "      <td>...</td>\n",
       "      <td>...</td>\n",
       "      <td>...</td>\n",
       "      <td>...</td>\n",
       "      <td>...</td>\n",
       "    </tr>\n",
       "    <tr>\n",
       "      <th>18073</th>\n",
       "      <td>1900-01-30 04:28:10</td>\n",
       "      <td>1900-01-30 04:29:52</td>\n",
       "      <td>NaT</td>\n",
       "      <td>1900-01-30 04:58:44</td>\n",
       "      <td>287</td>\n",
       "      <td>44</td>\n",
       "      <td>46332</td>\n",
       "      <td>Mountain View</td>\n",
       "      <td>True</td>\n",
       "      <td>44.99</td>\n",
       "      <td>0.0</td>\n",
       "      <td>6.00</td>\n",
       "      <td>0.0</td>\n",
       "      <td>Tuesday</td>\n",
       "    </tr>\n",
       "    <tr>\n",
       "      <th>18074</th>\n",
       "      <td>1900-01-30 18:33:19</td>\n",
       "      <td>1900-01-30 18:50:06</td>\n",
       "      <td>1900-01-30 19:08:19</td>\n",
       "      <td>1900-01-30 19:20:41</td>\n",
       "      <td>184</td>\n",
       "      <td>44</td>\n",
       "      <td>11055</td>\n",
       "      <td>Mountain View</td>\n",
       "      <td>True</td>\n",
       "      <td>35.80</td>\n",
       "      <td>0.0</td>\n",
       "      <td>5.00</td>\n",
       "      <td>0.0</td>\n",
       "      <td>Tuesday</td>\n",
       "    </tr>\n",
       "    <tr>\n",
       "      <th>18075</th>\n",
       "      <td>1900-01-30 17:40:02</td>\n",
       "      <td>1900-01-30 18:06:01</td>\n",
       "      <td>1900-01-30 18:22:25</td>\n",
       "      <td>1900-01-30 18:40:20</td>\n",
       "      <td>232</td>\n",
       "      <td>330</td>\n",
       "      <td>24289</td>\n",
       "      <td>San Jose</td>\n",
       "      <td>False</td>\n",
       "      <td>29.33</td>\n",
       "      <td>0.0</td>\n",
       "      <td>1.07</td>\n",
       "      <td>0.0</td>\n",
       "      <td>Tuesday</td>\n",
       "    </tr>\n",
       "    <tr>\n",
       "      <th>18076</th>\n",
       "      <td>1900-01-30 18:25:36</td>\n",
       "      <td>1900-01-30 18:34:26</td>\n",
       "      <td>1900-01-30 19:21:52</td>\n",
       "      <td>1900-01-30 19:45:36</td>\n",
       "      <td>399</td>\n",
       "      <td>353</td>\n",
       "      <td>2643</td>\n",
       "      <td>Palo Alto</td>\n",
       "      <td>True</td>\n",
       "      <td>123.69</td>\n",
       "      <td>0.0</td>\n",
       "      <td>5.13</td>\n",
       "      <td>0.0</td>\n",
       "      <td>Tuesday</td>\n",
       "    </tr>\n",
       "    <tr>\n",
       "      <th>18077</th>\n",
       "      <td>1900-01-30 19:28:19</td>\n",
       "      <td>1900-01-30 19:36:11</td>\n",
       "      <td>1900-01-30 19:50:44</td>\n",
       "      <td>1900-01-30 21:02:58</td>\n",
       "      <td>166</td>\n",
       "      <td>20</td>\n",
       "      <td>8392</td>\n",
       "      <td>Palo Alto</td>\n",
       "      <td>True</td>\n",
       "      <td>43.83</td>\n",
       "      <td>0.0</td>\n",
       "      <td>2.19</td>\n",
       "      <td>0.0</td>\n",
       "      <td>Tuesday</td>\n",
       "    </tr>\n",
       "  </tbody>\n",
       "</table>\n",
       "<p>18078 rows × 14 columns</p>\n",
       "</div>"
      ],
      "text/plain": [
       "          cust_order_time order_with_rest_time arrive_at_rest_time  \\\n",
       "0     1900-01-01 02:52:12  1900-01-01 03:00:25 1900-01-01 03:08:09   \n",
       "1     1900-01-13 15:58:57  1900-01-13 17:56:45 1900-01-13 18:24:39   \n",
       "2     1900-01-17 19:02:37  1900-01-17 19:12:51 1900-01-17 19:19:59   \n",
       "3     1900-01-12 04:01:57  1900-01-12 04:08:18 1900-01-12 04:13:02   \n",
       "4     1900-01-08 23:46:38  1900-01-08 23:49:32 1900-01-08 23:54:29   \n",
       "...                   ...                  ...                 ...   \n",
       "18073 1900-01-30 04:28:10  1900-01-30 04:29:52                 NaT   \n",
       "18074 1900-01-30 18:33:19  1900-01-30 18:50:06 1900-01-30 19:08:19   \n",
       "18075 1900-01-30 17:40:02  1900-01-30 18:06:01 1900-01-30 18:22:25   \n",
       "18076 1900-01-30 18:25:36  1900-01-30 18:34:26 1900-01-30 19:21:52   \n",
       "18077 1900-01-30 19:28:19  1900-01-30 19:36:11 1900-01-30 19:50:44   \n",
       "\n",
       "      deliver_to_cust_time  driver_id  restaurant_id  consumer_id  \\\n",
       "0      1900-01-01 03:35:20        279             50         6738   \n",
       "1      1900-01-13 18:57:01        303             96        64746   \n",
       "2      1900-01-17 19:31:09        212            190        12484   \n",
       "3      1900-01-12 04:37:57        352            194        13920   \n",
       "4      1900-01-09 00:37:15        313              9         7037   \n",
       "...                    ...        ...            ...          ...   \n",
       "18073  1900-01-30 04:58:44        287             44        46332   \n",
       "18074  1900-01-30 19:20:41        184             44        11055   \n",
       "18075  1900-01-30 18:40:20        232            330        24289   \n",
       "18076  1900-01-30 19:45:36        399            353         2643   \n",
       "18077  1900-01-30 21:02:58        166             20         8392   \n",
       "\n",
       "      delivery_region  is_asap  order_total  amount_of_discount  \\\n",
       "0       Mountain View     True        16.33                 0.0   \n",
       "1           Palo Alto     True        76.14                 0.0   \n",
       "2            San Jose     True        16.77                 6.0   \n",
       "3            San Jose     True        25.03                 0.0   \n",
       "4           Palo Alto     True        51.57                 0.0   \n",
       "...               ...      ...          ...                 ...   \n",
       "18073   Mountain View     True        44.99                 0.0   \n",
       "18074   Mountain View     True        35.80                 0.0   \n",
       "18075        San Jose    False        29.33                 0.0   \n",
       "18076       Palo Alto     True       123.69                 0.0   \n",
       "18077       Palo Alto     True        43.83                 0.0   \n",
       "\n",
       "       amount_of_tip  refunded_amount day_of_week  \n",
       "0               0.82              0.0      Monday  \n",
       "1               6.45              0.0    Saturday  \n",
       "2               2.52              0.0   Wednesday  \n",
       "3               5.00              0.0      Friday  \n",
       "4               5.16              0.0      Monday  \n",
       "...              ...              ...         ...  \n",
       "18073           6.00              0.0     Tuesday  \n",
       "18074           5.00              0.0     Tuesday  \n",
       "18075           1.07              0.0     Tuesday  \n",
       "18076           5.13              0.0     Tuesday  \n",
       "18077           2.19              0.0     Tuesday  \n",
       "\n",
       "[18078 rows x 14 columns]"
      ]
     },
     "execution_count": 11,
     "metadata": {},
     "output_type": "execute_result"
    }
   ],
   "source": [
    "df"
   ]
  },
  {
   "cell_type": "code",
   "execution_count": 12,
   "metadata": {},
   "outputs": [
    {
     "name": "stdout",
     "output_type": "stream",
     "text": [
      "<class 'pandas.core.frame.DataFrame'>\n",
      "RangeIndex: 18078 entries, 0 to 18077\n",
      "Data columns (total 14 columns):\n",
      " #   Column                Non-Null Count  Dtype         \n",
      "---  ------                --------------  -----         \n",
      " 0   cust_order_time       18078 non-null  datetime64[ns]\n",
      " 1   order_with_rest_time  18038 non-null  datetime64[ns]\n",
      " 2   arrive_at_rest_time   13547 non-null  datetime64[ns]\n",
      " 3   deliver_to_cust_time  18078 non-null  datetime64[ns]\n",
      " 4   driver_id             18078 non-null  int64         \n",
      " 5   restaurant_id         18078 non-null  int64         \n",
      " 6   consumer_id           18078 non-null  int64         \n",
      " 7   delivery_region       18078 non-null  object        \n",
      " 8   is_asap               18078 non-null  object        \n",
      " 9   order_total           18078 non-null  float64       \n",
      " 10  amount_of_discount    18078 non-null  float64       \n",
      " 11  amount_of_tip         18078 non-null  float64       \n",
      " 12  refunded_amount       18078 non-null  float64       \n",
      " 13  day_of_week           18078 non-null  object        \n",
      "dtypes: datetime64[ns](4), float64(4), int64(3), object(3)\n",
      "memory usage: 1.9+ MB\n"
     ]
    }
   ],
   "source": [
    "# checking to make sure bool data type was converted into object\n",
    "df.is_asap = df.is_asap.astype(\"object\")\n",
    "df.info()"
   ]
  },
  {
   "cell_type": "code",
   "execution_count": 13,
   "metadata": {},
   "outputs": [
    {
     "data": {
      "text/plain": [
       "True"
      ]
     },
     "execution_count": 13,
     "metadata": {},
     "output_type": "execute_result"
    }
   ],
   "source": [
    "# checking for any null values and we do have some\n",
    "df.isnull().values.any()    "
   ]
  },
  {
   "cell_type": "code",
   "execution_count": 14,
   "metadata": {},
   "outputs": [
    {
     "data": {
      "text/plain": [
       "cust_order_time            0\n",
       "order_with_rest_time      40\n",
       "arrive_at_rest_time     4531\n",
       "deliver_to_cust_time       0\n",
       "driver_id                  0\n",
       "restaurant_id              0\n",
       "consumer_id                0\n",
       "delivery_region            0\n",
       "is_asap                    0\n",
       "order_total                0\n",
       "amount_of_discount         0\n",
       "amount_of_tip              0\n",
       "refunded_amount            0\n",
       "day_of_week                0\n",
       "dtype: int64"
      ]
     },
     "execution_count": 14,
     "metadata": {},
     "output_type": "execute_result"
    }
   ],
   "source": [
    "df.isnull().sum()"
   ]
  },
  {
   "cell_type": "code",
   "execution_count": 15,
   "metadata": {},
   "outputs": [
    {
     "data": {
      "text/plain": [
       "cust_order_time          0.000000\n",
       "order_with_rest_time     0.221263\n",
       "arrive_at_rest_time     25.063613\n",
       "deliver_to_cust_time     0.000000\n",
       "driver_id                0.000000\n",
       "restaurant_id            0.000000\n",
       "consumer_id              0.000000\n",
       "delivery_region          0.000000\n",
       "is_asap                  0.000000\n",
       "order_total              0.000000\n",
       "amount_of_discount       0.000000\n",
       "amount_of_tip            0.000000\n",
       "refunded_amount          0.000000\n",
       "day_of_week              0.000000\n",
       "dtype: float64"
      ]
     },
     "execution_count": 15,
     "metadata": {},
     "output_type": "execute_result"
    }
   ],
   "source": [
    "df.isnull().sum()*100/df.isnull().count()"
   ]
  },
  {
   "cell_type": "markdown",
   "metadata": {},
   "source": [
    "order with restauraunt time and dasher arriving time at restauraunt have null values. Order time is 2% so we will apply mean. and Dasher arrive time at restauraunt is 25% null. I don't believe this is a huge percentage so we will apply mean to it as well."
   ]
  },
  {
   "cell_type": "code",
   "execution_count": 16,
   "metadata": {},
   "outputs": [],
   "source": [
    "# filling order time with restaraunt with the mean \n",
    "df[\"order_with_rest_time\"].fillna(df[\"order_with_rest_time\"].mean(), inplace=True)\n",
    "df[\"arrive_at_rest_time\"].fillna(df[\"arrive_at_rest_time\"].mean(), inplace=True)"
   ]
  },
  {
   "cell_type": "code",
   "execution_count": 17,
   "metadata": {},
   "outputs": [
    {
     "data": {
      "text/plain": [
       "cust_order_time         0\n",
       "order_with_rest_time    0\n",
       "arrive_at_rest_time     0\n",
       "deliver_to_cust_time    0\n",
       "driver_id               0\n",
       "restaurant_id           0\n",
       "consumer_id             0\n",
       "delivery_region         0\n",
       "is_asap                 0\n",
       "order_total             0\n",
       "amount_of_discount      0\n",
       "amount_of_tip           0\n",
       "refunded_amount         0\n",
       "day_of_week             0\n",
       "dtype: int64"
      ]
     },
     "execution_count": 17,
     "metadata": {},
     "output_type": "execute_result"
    }
   ],
   "source": [
    "df.isnull().sum()"
   ]
  },
  {
   "cell_type": "code",
   "execution_count": 18,
   "metadata": {},
   "outputs": [
    {
     "data": {
      "text/plain": [
       "0        yes\n",
       "1        yes\n",
       "2        yes\n",
       "3        yes\n",
       "4        yes\n",
       "        ... \n",
       "18073    yes\n",
       "18074    yes\n",
       "18075     no\n",
       "18076    yes\n",
       "18077    yes\n",
       "Name: is_asap, Length: 18078, dtype: object"
      ]
     },
     "execution_count": 18,
     "metadata": {},
     "output_type": "execute_result"
    }
   ],
   "source": [
    "# we convert the boolean values into string values\n",
    "mask = df.applymap(type) != bool\n",
    "d = {True: 'yes', False: 'no'}\n",
    "df = df.where(mask, df.replace(d))\n",
    "# checking to make sure action was successful\n",
    "df.is_asap"
   ]
  },
  {
   "cell_type": "code",
   "execution_count": 19,
   "metadata": {},
   "outputs": [
    {
     "data": {
      "text/html": [
       "<div>\n",
       "<style scoped>\n",
       "    .dataframe tbody tr th:only-of-type {\n",
       "        vertical-align: middle;\n",
       "    }\n",
       "\n",
       "    .dataframe tbody tr th {\n",
       "        vertical-align: top;\n",
       "    }\n",
       "\n",
       "    .dataframe thead th {\n",
       "        text-align: right;\n",
       "    }\n",
       "</style>\n",
       "<table border=\"1\" class=\"dataframe\">\n",
       "  <thead>\n",
       "    <tr style=\"text-align: right;\">\n",
       "      <th></th>\n",
       "      <th>driver_id</th>\n",
       "      <th>restaurant_id</th>\n",
       "      <th>consumer_id</th>\n",
       "      <th>order_total</th>\n",
       "      <th>amount_of_discount</th>\n",
       "      <th>amount_of_tip</th>\n",
       "      <th>refunded_amount</th>\n",
       "    </tr>\n",
       "  </thead>\n",
       "  <tbody>\n",
       "    <tr>\n",
       "      <th>count</th>\n",
       "      <td>18078.000000</td>\n",
       "      <td>18078.000000</td>\n",
       "      <td>18078.000000</td>\n",
       "      <td>18078.000000</td>\n",
       "      <td>18078.000000</td>\n",
       "      <td>18078.000000</td>\n",
       "      <td>18078.000000</td>\n",
       "    </tr>\n",
       "    <tr>\n",
       "      <th>mean</th>\n",
       "      <td>222.448169</td>\n",
       "      <td>108.721263</td>\n",
       "      <td>32010.313475</td>\n",
       "      <td>51.261496</td>\n",
       "      <td>1.356706</td>\n",
       "      <td>3.492022</td>\n",
       "      <td>0.612091</td>\n",
       "    </tr>\n",
       "    <tr>\n",
       "      <th>std</th>\n",
       "      <td>105.219194</td>\n",
       "      <td>98.609766</td>\n",
       "      <td>42010.215766</td>\n",
       "      <td>50.599675</td>\n",
       "      <td>6.516667</td>\n",
       "      <td>3.700115</td>\n",
       "      <td>6.073104</td>\n",
       "    </tr>\n",
       "    <tr>\n",
       "      <th>min</th>\n",
       "      <td>7.000000</td>\n",
       "      <td>2.000000</td>\n",
       "      <td>5.000000</td>\n",
       "      <td>0.000000</td>\n",
       "      <td>0.000000</td>\n",
       "      <td>0.000000</td>\n",
       "      <td>0.000000</td>\n",
       "    </tr>\n",
       "    <tr>\n",
       "      <th>25%</th>\n",
       "      <td>141.000000</td>\n",
       "      <td>23.000000</td>\n",
       "      <td>4243.500000</td>\n",
       "      <td>26.660000</td>\n",
       "      <td>0.000000</td>\n",
       "      <td>1.400000</td>\n",
       "      <td>0.000000</td>\n",
       "    </tr>\n",
       "    <tr>\n",
       "      <th>50%</th>\n",
       "      <td>227.000000</td>\n",
       "      <td>77.000000</td>\n",
       "      <td>10972.000000</td>\n",
       "      <td>38.630000</td>\n",
       "      <td>0.000000</td>\n",
       "      <td>2.550000</td>\n",
       "      <td>0.000000</td>\n",
       "    </tr>\n",
       "    <tr>\n",
       "      <th>75%</th>\n",
       "      <td>314.000000</td>\n",
       "      <td>186.000000</td>\n",
       "      <td>56857.000000</td>\n",
       "      <td>57.885000</td>\n",
       "      <td>0.000000</td>\n",
       "      <td>4.460000</td>\n",
       "      <td>0.000000</td>\n",
       "    </tr>\n",
       "    <tr>\n",
       "      <th>max</th>\n",
       "      <td>438.000000</td>\n",
       "      <td>409.000000</td>\n",
       "      <td>200449.000000</td>\n",
       "      <td>1604.130000</td>\n",
       "      <td>187.880000</td>\n",
       "      <td>120.300000</td>\n",
       "      <td>414.770000</td>\n",
       "    </tr>\n",
       "  </tbody>\n",
       "</table>\n",
       "</div>"
      ],
      "text/plain": [
       "          driver_id  restaurant_id    consumer_id   order_total  \\\n",
       "count  18078.000000   18078.000000   18078.000000  18078.000000   \n",
       "mean     222.448169     108.721263   32010.313475     51.261496   \n",
       "std      105.219194      98.609766   42010.215766     50.599675   \n",
       "min        7.000000       2.000000       5.000000      0.000000   \n",
       "25%      141.000000      23.000000    4243.500000     26.660000   \n",
       "50%      227.000000      77.000000   10972.000000     38.630000   \n",
       "75%      314.000000     186.000000   56857.000000     57.885000   \n",
       "max      438.000000     409.000000  200449.000000   1604.130000   \n",
       "\n",
       "       amount_of_discount  amount_of_tip  refunded_amount  \n",
       "count        18078.000000   18078.000000     18078.000000  \n",
       "mean             1.356706       3.492022         0.612091  \n",
       "std              6.516667       3.700115         6.073104  \n",
       "min              0.000000       0.000000         0.000000  \n",
       "25%              0.000000       1.400000         0.000000  \n",
       "50%              0.000000       2.550000         0.000000  \n",
       "75%              0.000000       4.460000         0.000000  \n",
       "max            187.880000     120.300000       414.770000  "
      ]
     },
     "execution_count": 19,
     "metadata": {},
     "output_type": "execute_result"
    }
   ],
   "source": [
    "df.describe()"
   ]
  },
  {
   "cell_type": "markdown",
   "metadata": {},
   "source": [
    "Average tip is about 3.50 cents \n",
    "\n",
    "Total order amount shows average at 51 dollars\n",
    "\n",
    "Total tip averages around 1 dollar\n",
    "\n",
    "refunded amount averages at 60 cents"
   ]
  },
  {
   "cell_type": "markdown",
   "metadata": {},
   "source": [
    "# What is the usual(average)time orders are made, dasher arrive at restaraunt and delivers meals?"
   ]
  },
  {
   "cell_type": "code",
   "execution_count": 20,
   "metadata": {},
   "outputs": [
    {
     "data": {
      "text/plain": [
       "Timestamp('1900-01-15 02:16:44.048877056')"
      ]
     },
     "execution_count": 20,
     "metadata": {},
     "output_type": "execute_result"
    }
   ],
   "source": [
    "# Average time dasher gets to restauraunt is 2:16pm\n",
    "df.arrive_at_rest_time.mean()"
   ]
  },
  {
   "cell_type": "code",
   "execution_count": 21,
   "metadata": {},
   "outputs": [
    {
     "data": {
      "text/plain": [
       "Timestamp('1900-01-16 03:09:48.802964736')"
      ]
     },
     "execution_count": 21,
     "metadata": {},
     "output_type": "execute_result"
    }
   ],
   "source": [
    "# customers place orders usually around 3pm\n",
    "df.cust_order_time.mean()"
   ]
  },
  {
   "cell_type": "code",
   "execution_count": 22,
   "metadata": {},
   "outputs": [
    {
     "data": {
      "text/plain": [
       "Timestamp('1900-01-16 02:15:35.407461376')"
      ]
     },
     "execution_count": 22,
     "metadata": {},
     "output_type": "execute_result"
    }
   ],
   "source": [
    "# average delivery time is 2:15pm\n",
    "df.deliver_to_cust_time.mean()"
   ]
  },
  {
   "cell_type": "code",
   "execution_count": 23,
   "metadata": {},
   "outputs": [],
   "source": [
    "# changing delivery_region None value to others because it makes more sense\n",
    "df[\"delivery_region\"] = df[\"delivery_region\"].replace([\"None\"],\"Others\")"
   ]
  },
  {
   "cell_type": "markdown",
   "metadata": {},
   "source": [
    "# How many customers participate in is_asap?"
   ]
  },
  {
   "cell_type": "code",
   "execution_count": 24,
   "metadata": {},
   "outputs": [
    {
     "data": {
      "image/png": "[encoded data removed]",
      "text/plain": [
       "<Figure size 432x288 with 1 Axes>"
      ]
     },
     "metadata": {},
     "output_type": "display_data"
    }
   ],
   "source": [
    "sns.set(style=\"white\", palette=\"dark\", color_codes=True)\n",
    "sns.despine(left=True)\n",
    "sns.countplot(df[\"is_asap\"]);"
   ]
  },
  {
   "cell_type": "markdown",
   "metadata": {},
   "source": [
    "About 14000 customers opt in is_asap and just about 400 customers don't participate in it."
   ]
  },
  {
   "cell_type": "code",
   "execution_count": 25,
   "metadata": {},
   "outputs": [
    {
     "data": {
      "image/png": "[encoded data removed]",
      "text/plain": [
       "<Figure size 432x288 with 1 Axes>"
      ]
     },
     "metadata": {},
     "output_type": "display_data"
    }
   ],
   "source": [
    "plt.pie(df[\"is_asap\"].value_counts(),explode=(0,0.1), autopct='%1.1f%%',\n",
    "        shadow=True, startangle=90,labels=df[\"is_asap\"].unique())\n",
    "plt.axis('equal') ;"
   ]
  },
  {
   "cell_type": "markdown",
   "metadata": {},
   "source": [
    "We see the percentage for is_asap is about 80% and 20% for those who say no"
   ]
  },
  {
   "cell_type": "code",
   "execution_count": 26,
   "metadata": {},
   "outputs": [
    {
     "data": {
      "text/plain": [
       "Palo Alto        11433\n",
       "Mountain View     3760\n",
       "San Jose          2859\n",
       "Others              26\n",
       "Name: delivery_region, dtype: int64"
      ]
     },
     "execution_count": 26,
     "metadata": {},
     "output_type": "execute_result"
    }
   ],
   "source": [
    "df[\"delivery_region\"].value_counts()"
   ]
  },
  {
   "cell_type": "code",
   "execution_count": 27,
   "metadata": {},
   "outputs": [
    {
     "data": {
      "text/plain": [
       "<matplotlib.axes._subplots.AxesSubplot at 0x7ff7057472e0>"
      ]
     },
     "execution_count": 27,
     "metadata": {},
     "output_type": "execute_result"
    },
    {
     "data": {
      "image/png": "[encoded data removed]",
      "text/plain": [
       "<Figure size 1296x576 with 1 Axes>"
      ]
     },
     "metadata": {},
     "output_type": "display_data"
    }
   ],
   "source": [
    "f, axes = plt.subplots(figsize=(18, 8))\n",
    "sns.countplot(df[\"is_asap\"],hue = df[\"delivery_region\"])"
   ]
  },
  {
   "cell_type": "markdown",
   "metadata": {},
   "source": [
    "In our above graph we realize the relationship between delivery region and is_asap. Palo Alto region has 11,333, Mountain view with 3,760, San Jose has 2,859 and 26 for no region. Perhaps Mountain view has a higher population than the rest."
   ]
  },
  {
   "cell_type": "code",
   "execution_count": 28,
   "metadata": {},
   "outputs": [
    {
     "data": {
      "text/plain": [
       "51.26149629383797"
      ]
     },
     "execution_count": 28,
     "metadata": {},
     "output_type": "execute_result"
    }
   ],
   "source": [
    "df.order_total.mean()"
   ]
  },
  {
   "cell_type": "markdown",
   "metadata": {},
   "source": [
    "# Which region contains the most order amount and discounts, and  tip?"
   ]
  },
  {
   "cell_type": "code",
   "execution_count": 29,
   "metadata": {},
   "outputs": [
    {
     "data": {
      "image/png": "[encoded data removed]",
      "text/plain": [
       "<Figure size 360x360 with 1 Axes>"
      ]
     },
     "metadata": {},
     "output_type": "display_data"
    }
   ],
   "source": [
    "sns.relplot(x=\"amount_of_tip\", y=\"delivery_region\", data=df);"
   ]
  },
  {
   "cell_type": "markdown",
   "metadata": {},
   "source": [
    "In out above graph we notice Palo Alto contain pays most tips, next is Mountain View then Others, lastly we have San Jose."
   ]
  },
  {
   "cell_type": "code",
   "execution_count": 30,
   "metadata": {},
   "outputs": [
    {
     "data": {
      "image/png": "[encoded data removed]",
      "text/plain": [
       "<Figure size 360x360 with 1 Axes>"
      ]
     },
     "metadata": {},
     "output_type": "display_data"
    }
   ],
   "source": [
    "sns.relplot(x=\"amount_of_discount\", y=\"delivery_region\", data=df);"
   ]
  },
  {
   "cell_type": "markdown",
   "metadata": {},
   "source": [
    "Above is the discont amount in relations to delivery region. Palo Alto gets the most discount, then Mountain View, lastly is San Jose"
   ]
  },
  {
   "cell_type": "code",
   "execution_count": 31,
   "metadata": {},
   "outputs": [
    {
     "data": {
      "image/png": "[encoded data removed]",
      "text/plain": [
       "<Figure size 360x360 with 1 Axes>"
      ]
     },
     "metadata": {},
     "output_type": "display_data"
    }
   ],
   "source": [
    "sns.relplot(x=\"delivery_region\", y=\"refunded_amount\", data=df);"
   ]
  },
  {
   "cell_type": "markdown",
   "metadata": {},
   "source": [
    "Above we hve Palto Alto region is at the top in terms of refunded amount, then Mountain view, after that is San Jose finally is others."
   ]
  },
  {
   "cell_type": "code",
   "execution_count": 32,
   "metadata": {},
   "outputs": [
    {
     "data": {
      "image/png": "[encoded data removed]",
      "text/plain": [
       "<Figure size 360x360 with 1 Axes>"
      ]
     },
     "metadata": {},
     "output_type": "display_data"
    }
   ],
   "source": [
    "sns.relplot(x=\"delivery_region\", y=\"order_total\", data=df);"
   ]
  },
  {
   "cell_type": "markdown",
   "metadata": {},
   "source": [
    "In our last graph here, Palo Alto regin spends the most on food and delivery fees, next is Mountain View, then other reigions then San Jose."
   ]
  },
  {
   "cell_type": "markdown",
   "metadata": {},
   "source": [
    "# How are days of the week related to time dasher arrive, time food is delivered?"
   ]
  },
  {
   "cell_type": "code",
   "execution_count": 33,
   "metadata": {},
   "outputs": [],
   "source": [
    "# changing days of the week names to abbreviations\n",
    "df[\"day_of_week\"] = df[\"day_of_week\"].replace([\"Monday\"],\"Mon\")\n",
    "df[\"day_of_week\"] = df[\"day_of_week\"].replace([\"Tuesday\"],\"Tue\")\n",
    "df[\"day_of_week\"] = df[\"day_of_week\"].replace([\"Wednesday\"],\"Wed\")\n",
    "df[\"day_of_week\"] = df[\"day_of_week\"].replace([\"Thursday\"],\"Thu\")\n",
    "df[\"day_of_week\"] = df[\"day_of_week\"].replace([\"Friday\"],\"Fri\")\n",
    "df[\"day_of_week\"] = df[\"day_of_week\"].replace([\"Saturday\"],\"Sat\")\n",
    "df[\"day_of_week\"] = df[\"day_of_week\"].replace([\"Sunday\"],\"Sun\")"
   ]
  },
  {
   "cell_type": "code",
   "execution_count": 34,
   "metadata": {},
   "outputs": [
    {
     "data": {
      "text/plain": [
       "<seaborn.axisgrid.FacetGrid at 0x7ff701c1e0d0>"
      ]
     },
     "execution_count": 34,
     "metadata": {},
     "output_type": "execute_result"
    },
    {
     "data": {
      "image/png": "[encoded data removed]",
      "text/plain": [
       "<Figure size 360x360 with 1 Axes>"
      ]
     },
     "metadata": {},
     "output_type": "display_data"
    }
   ],
   "source": [
    "sns.catplot(x=\"day_of_week\", y=\"order_total\", data=df)"
   ]
  },
  {
   "cell_type": "markdown",
   "metadata": {},
   "source": [
    "Monday, Wednesday, Fridays, Thursdays and Sundays seems to be the days most ppl order food."
   ]
  },
  {
   "cell_type": "code",
   "execution_count": 35,
   "metadata": {},
   "outputs": [
    {
     "data": {
      "text/plain": [
       "<seaborn.axisgrid.FacetGrid at 0x7ff7034fd910>"
      ]
     },
     "execution_count": 35,
     "metadata": {},
     "output_type": "execute_result"
    },
    {
     "data": {
      "image/png": "[encoded data removed]",
      "text/plain": [
       "<Figure size 360x360 with 1 Axes>"
      ]
     },
     "metadata": {},
     "output_type": "display_data"
    }
   ],
   "source": [
    "sns.catplot(x=\"day_of_week\", y=\"arrive_at_rest_time\", data=df)"
   ]
  },
  {
   "cell_type": "markdown",
   "metadata": {},
   "source": [
    "It looks like Monday, Tuesdays, Wednesdays are days that most of dashers work and are at the restauraunts on time."
   ]
  },
  {
   "cell_type": "markdown",
   "metadata": {},
   "source": [
    "From our analysis we conclude that most of our revenue derives from Palo Alto divelivery region. This is a prime region to focus on and make sure we target this region in terms of picking up orders quicker and deliverying food faster to this region. Moreover, lets be kind with customers from this region. We should attempt to increase revenue in Montain View and San Jose region by running an email campaign to influence customer buying behavior. In addition to customers buying, we should apply 3%- 5% discounts depending on how much is spent.  "
   ]
  },
  {
   "cell_type": "markdown",
   "metadata": {},
   "source": [
    "Another key area we should target is the On demand orders. We have about 80% of the market already, but we should attempt to increase that by 5% by promoting customers to place more on-demand orders in Mountain View and San Jose who are struggeling in this area. We can increase our revenue by bringig awareness. Perhaps a shopping card/credit card for customers to have and spend whenever needed."
   ]
  }
 ],
 "metadata": {
  "kernelspec": {
   "display_name": "Python 3",
   "language": "python",
   "name": "python3"
  },
  "language_info": {
   "codemirror_mode": {
    "name": "ipython",
    "version": 3
   },
   "file_extension": ".py",
   "mimetype": "text/x-python",
   "name": "python",
   "nbconvert_exporter": "python",
   "pygments_lexer": "ipython3",
   "version": "3.8.3"
  }
 },
 "nbformat": 4,
 "nbformat_minor": 4
}
